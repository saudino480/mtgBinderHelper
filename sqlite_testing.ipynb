{
 "cells": [
  {
   "cell_type": "code",
   "execution_count": 7,
   "id": "aee371ba-6bf4-4761-abaf-857c1662c224",
   "metadata": {},
   "outputs": [],
   "source": [
    "import sqlite3\n",
    "db = sqlite3.connect('instance/mtgBinderHelper.sqlite')"
   ]
  },
  {
   "cell_type": "code",
   "execution_count": 2,
   "id": "51948ed0-698a-486c-b314-6093fbe95005",
   "metadata": {},
   "outputs": [],
   "source": [
    "query = db.execute('SELECT * FROM PRAGMA_TABLE_INFO(\"cardInfo\")')"
   ]
  },
  {
   "cell_type": "code",
   "execution_count": 3,
   "id": "ad7482f9-ab51-4ae4-ba7b-9ead20aeda00",
   "metadata": {},
   "outputs": [
    {
     "data": {
      "text/plain": [
       "(('cid', None, None, None, None, None, None),\n",
       " ('name', None, None, None, None, None, None),\n",
       " ('type', None, None, None, None, None, None),\n",
       " ('notnull', None, None, None, None, None, None),\n",
       " ('dflt_value', None, None, None, None, None, None),\n",
       " ('pk', None, None, None, None, None, None))"
      ]
     },
     "execution_count": 3,
     "metadata": {},
     "output_type": "execute_result"
    }
   ],
   "source": [
    "query.description"
   ]
  },
  {
   "cell_type": "code",
   "execution_count": 5,
   "id": "a7e78524-a8f7-48bf-b97c-78e9a77ab168",
   "metadata": {},
   "outputs": [],
   "source": [
    "db.close()"
   ]
  },
  {
   "cell_type": "code",
   "execution_count": 9,
   "id": "53b83c17-c4da-4e19-9e29-9675a0d583da",
   "metadata": {},
   "outputs": [
    {
     "data": {
      "text/plain": [
       "(1, 2, 3)"
      ]
     },
     "execution_count": 9,
     "metadata": {},
     "output_type": "execute_result"
    }
   ],
   "source": [
    "tuple([1,2,3])"
   ]
  },
  {
   "cell_type": "code",
   "execution_count": 18,
   "id": "709268e3-2000-48bb-bf91-1f56b827bcd3",
   "metadata": {},
   "outputs": [
    {
     "data": {
      "text/plain": [
       "['DROP TABLE IF EXISTS user;',\n",
       " 'DROP TABLE IF EXISTS collection;',\n",
       " 'DROP TABLE IF EXISTS cardInfo;',\n",
       " 'DROP TABLE IF EXISTS priceHistory;',\n",
       " 'DROP TABLE IF EXISTS setInfo;',\n",
       " 'CREATE TABLE user (  id INTEGER PRIMARY KEY AUTOINCREMENT,  username TEXT UNIQUE NOT NULL,  password TEXT NOT NULL,  email TEXT NOT NULL,  created_at TIMESTAMP DEFAULT (now()),  accountType TEXT DEFAULT \"user\");',\n",
       " 'CREATE TABLE collection (  id INTEGER PRIMARY KEY AUTOINCREMENT,  userId INTEGER,  cardId INTEGER,  setCode TEXT,  setNumber INTEGER,  isFoil boolean,  isTradeable boolean,  promo boolean,  treatment TEXT,  dateAcquired DATETIME,  dateAdded TIMESTAMP,  dateUpdated TIMESTAMP);',\n",
       " 'CREATE TABLE priceHistory (  id INTEGER PRIMARY KEY AUTOINCREMENT,  price float NOT NULL,  isFoil boolean,  isPromo boolean,  cardId INTEGER,  createdAt TIMESTAMP DEFAULT (now()),  updatedAt TIMESTAMP);',\n",
       " 'CREATE TABLE cardInfo (  id INTEGER PRIMARY KEY AUTOINCREMENT,  setCode TEXT,  setNumber INTEGER,  name TEXT,  borderColor TEXT,  rarity TEXT,  artist TEXT,  hasFoil boolean,  hasNonFoil boolean,  frameVersion TEXT,  finishes TEXT,  layout TEXT,  manaCost TEXT,  convertedManaCost INTEGER,  legalities TEXT,  oracle longtext,  scryfallId TEXT,  type TEXT);',\n",
       " 'CREATE TABLE setInfo (  id INTEGER PRIMARY KEY AUTOINCREMENT,  setCode TEXT UNIQUE,  name TEXT,  block TEXT,  releaseDate DATETIME,  baseSetSize INTEGER,  totalSetSize INTEGER,  type TEXT);',\n",
       " '-- ALTER TABLE collection ADD FOREIGN KEY (price_id) REFERENCES priceHistory (id);',\n",
       " '-- ALTER TABLE collection ADD FOREIGN KEY (user_id) REFERENCES user (id);',\n",
       " '-- ALTER TABLE collection ADD FOREIGN KEY (card_id) REFERENCES cardInfo (id);',\n",
       " '-- ALTER TABLE priceHistory ADD FOREIGN KEY (card_id) REFERENCES cardInfo (id);',\n",
       " '-- ALTER TABLE cardInfo ADD FOREIGN KEY (set_id) REFERENCES setInfo (set_id);']"
      ]
     },
     "execution_count": 18,
     "metadata": {},
     "output_type": "execute_result"
    }
   ],
   "source": [
    "with open(\"mtgBinderHelper/schema.sql\", \"r\") as f:\n",
    "    queries = []\n",
    "    query = \"\"\n",
    "    for line in f:\n",
    "        line = line.replace(\"\\n\", \"\")\n",
    "        if len(line) == 0:\n",
    "            continue\n",
    "        if line[-1] == ';':\n",
    "            if query == \"\":\n",
    "                queries.append(line)\n",
    "            else:\n",
    "                query += line\n",
    "                queries.append(query)\n",
    "                query = \"\"\n",
    "        else:\n",
    "            query += line\n",
    "queries"
   ]
  },
  {
   "cell_type": "code",
   "execution_count": 25,
   "id": "00170182-d81a-4e7e-9dc6-43841eb4889f",
   "metadata": {},
   "outputs": [],
   "source": [
    "query = '''\n",
    "CREATE TABLE user (\n",
    "  id INTEGER PRIMARY KEY AUTOINCREMENT,\n",
    "  username TEXT UNIQUE NOT NULL,\n",
    "  password TEXT NOT NULL,\n",
    "  email TEXT NOT NULL,\n",
    "  created_at TIMESTAMP DEFAULT (now()),\n",
    "  accountType TEXT DEFAULT \"user\"\n",
    ");\n",
    "'''"
   ]
  },
  {
   "cell_type": "code",
   "execution_count": 26,
   "id": "25ced16a-bffd-4ef0-8f8b-ca2374c0fe45",
   "metadata": {},
   "outputs": [],
   "source": [
    "drop = 'DROP TABLE IF EXISTS user;'"
   ]
  },
  {
   "cell_type": "code",
   "execution_count": 27,
   "id": "d3300671-7816-45af-88d9-c4e5267f3e7b",
   "metadata": {},
   "outputs": [
    {
     "data": {
      "text/plain": [
       "<sqlite3.Cursor at 0x7fdf30f1eab0>"
      ]
     },
     "execution_count": 27,
     "metadata": {},
     "output_type": "execute_result"
    }
   ],
   "source": [
    "db.execute(drop)\n",
    "db.execute(query)"
   ]
  },
  {
   "cell_type": "code",
   "execution_count": 29,
   "id": "a7d109b6-9576-4ea6-a511-e9a2b76647e2",
   "metadata": {},
   "outputs": [
    {
     "data": {
      "text/plain": [
       "(('id', None, None, None, None, None, None),\n",
       " ('username', None, None, None, None, None, None),\n",
       " ('password', None, None, None, None, None, None),\n",
       " ('email', None, None, None, None, None, None),\n",
       " ('created_at', None, None, None, None, None, None),\n",
       " ('accountType', None, None, None, None, None, None))"
      ]
     },
     "execution_count": 29,
     "metadata": {},
     "output_type": "execute_result"
    }
   ],
   "source": [
    "db.execute(\"SELECT * FROM user\").description"
   ]
  },
  {
   "cell_type": "code",
   "execution_count": 30,
   "id": "5c8d1906-859f-440c-afd6-288a74eaa60f",
   "metadata": {},
   "outputs": [],
   "source": [
    "import json"
   ]
  },
  {
   "cell_type": "code",
   "execution_count": 31,
   "id": "e55116f6-c3fc-4a68-b613-22e421b3d47a",
   "metadata": {},
   "outputs": [
    {
     "data": {
      "text/plain": [
       "dict_keys(['meta', 'data'])"
      ]
     },
     "execution_count": 31,
     "metadata": {},
     "output_type": "execute_result"
    }
   ],
   "source": [
    "with open(\"data/AllPrintings.json\") as f:\n",
    "    allcards = json.load(f)\n",
    "    \n",
    "allcards.keys()"
   ]
  },
  {
   "cell_type": "code",
   "execution_count": 35,
   "id": "6a71881f-0f31-4d22-a74e-6a182ef5edc2",
   "metadata": {},
   "outputs": [],
   "source": [
    "import pandas as pd"
   ]
  },
  {
   "cell_type": "code",
   "execution_count": 36,
   "id": "4e03822c-9421-4e79-9eb0-d5baa3339919",
   "metadata": {},
   "outputs": [],
   "source": [
    "znr_cards = pd.DataFrame(allcards['data']['ZNR']['cards'])"
   ]
  },
  {
   "cell_type": "code",
   "execution_count": 46,
   "id": "e1b7b7c8-507b-404c-86fb-d51e675d62fa",
   "metadata": {},
   "outputs": [
    {
     "data": {
      "text/html": [
       "<div>\n",
       "<style scoped>\n",
       "    .dataframe tbody tr th:only-of-type {\n",
       "        vertical-align: middle;\n",
       "    }\n",
       "\n",
       "    .dataframe tbody tr th {\n",
       "        vertical-align: top;\n",
       "    }\n",
       "\n",
       "    .dataframe thead th {\n",
       "        text-align: right;\n",
       "    }\n",
       "</style>\n",
       "<table border=\"1\" class=\"dataframe\">\n",
       "  <thead>\n",
       "    <tr style=\"text-align: right;\">\n",
       "      <th></th>\n",
       "      <th>artist</th>\n",
       "      <th>availability</th>\n",
       "      <th>boosterTypes</th>\n",
       "      <th>borderColor</th>\n",
       "      <th>colorIdentity</th>\n",
       "      <th>colors</th>\n",
       "      <th>convertedManaCost</th>\n",
       "      <th>edhrecRank</th>\n",
       "      <th>finishes</th>\n",
       "      <th>flavorText</th>\n",
       "      <th>...</th>\n",
       "      <th>isStarter</th>\n",
       "      <th>originalPrintings</th>\n",
       "      <th>isStorySpotlight</th>\n",
       "      <th>frameEffects</th>\n",
       "      <th>leadershipSkills</th>\n",
       "      <th>loyalty</th>\n",
       "      <th>isFullArt</th>\n",
       "      <th>promoTypes</th>\n",
       "      <th>isPromo</th>\n",
       "      <th>watermark</th>\n",
       "    </tr>\n",
       "  </thead>\n",
       "  <tbody>\n",
       "  </tbody>\n",
       "</table>\n",
       "<p>0 rows × 56 columns</p>\n",
       "</div>"
      ],
      "text/plain": [
       "Empty DataFrame\n",
       "Columns: [artist, availability, boosterTypes, borderColor, colorIdentity, colors, convertedManaCost, edhrecRank, finishes, flavorText, foreignData, frameVersion, hasFoil, hasNonFoil, identifiers, language, layout, legalities, manaCost, manaValue, name, number, printings, purchaseUrls, rarity, rulings, setCode, subtypes, supertypes, text, type, types, uuid, keywords, power, securityStamp, toughness, variations, isReprint, faceName, otherFaceIds, side, rebalancedPrintings, isAlternative, isOnlineOnly, isRebalanced, isStarter, originalPrintings, isStorySpotlight, frameEffects, leadershipSkills, loyalty, isFullArt, promoTypes, isPromo, watermark]\n",
       "Index: []\n",
       "\n",
       "[0 rows x 56 columns]"
      ]
     },
     "execution_count": 46,
     "metadata": {},
     "output_type": "execute_result"
    }
   ],
   "source": [
    "znr_cards[znr_cards['name'].str.contains('Spidersilk')]"
   ]
  },
  {
   "cell_type": "code",
   "execution_count": 49,
   "id": "bebff332-0ff3-43b3-b2eb-857434e8d714",
   "metadata": {},
   "outputs": [
    {
     "data": {
      "text/plain": [
       "-1"
      ]
     },
     "execution_count": 49,
     "metadata": {},
     "output_type": "execute_result"
    }
   ],
   "source": [
    "\"hello\".lower().find(\"helloo\")"
   ]
  },
  {
   "cell_type": "code",
   "execution_count": 51,
   "id": "38924ed5-e071-4860-8205-c340d68c3d2b",
   "metadata": {},
   "outputs": [
    {
     "data": {
      "text/plain": [
       "{'artist': 'Adam Paquette',\n",
       " 'availability': ['arena', 'mtgo', 'paper'],\n",
       " 'boosterTypes': ['draft'],\n",
       " 'borderColor': 'black',\n",
       " 'colorIdentity': ['B'],\n",
       " 'colors': [],\n",
       " 'convertedManaCost': 0.0,\n",
       " 'finishes': ['nonfoil', 'foil'],\n",
       " 'foreignData': [{'language': 'German',\n",
       "   'multiverseId': 495105,\n",
       "   'name': 'Sumpf',\n",
       "   'type': 'Standardland — Sumpf'},\n",
       "  {'language': 'Spanish',\n",
       "   'multiverseId': 495110,\n",
       "   'name': 'Pantano',\n",
       "   'type': 'Tierra básica — Pantano'},\n",
       "  {'language': 'French',\n",
       "   'multiverseId': 495115,\n",
       "   'name': 'Marais',\n",
       "   'type': 'Terrain de base : marais'},\n",
       "  {'language': 'Italian',\n",
       "   'multiverseId': 495120,\n",
       "   'name': 'Palude',\n",
       "   'type': 'Terra Base — Palude'},\n",
       "  {'language': 'Japanese',\n",
       "   'multiverseId': 495125,\n",
       "   'name': '沼',\n",
       "   'type': '基本土地 — 沼'},\n",
       "  {'language': 'Korean',\n",
       "   'multiverseId': 495130,\n",
       "   'name': '늪',\n",
       "   'type': '기본 대지 — 늪'},\n",
       "  {'language': 'Portuguese (Brazil)',\n",
       "   'multiverseId': 495135,\n",
       "   'name': 'Pântano',\n",
       "   'type': 'Terreno Básico — Pântano'},\n",
       "  {'language': 'Russian',\n",
       "   'multiverseId': 495140,\n",
       "   'name': 'Болото',\n",
       "   'type': 'Базовая Земля — Болото'},\n",
       "  {'language': 'Chinese Simplified',\n",
       "   'multiverseId': 495145,\n",
       "   'name': '沼泽',\n",
       "   'type': '基本地 ～沼泽'},\n",
       "  {'language': 'Chinese Traditional',\n",
       "   'multiverseId': 495150,\n",
       "   'name': '沼澤',\n",
       "   'type': '基本地 ～沼澤'}],\n",
       " 'frameVersion': '2015',\n",
       " 'hasFoil': True,\n",
       " 'hasNonFoil': True,\n",
       " 'identifiers': {'cardKingdomFoilId': '238706',\n",
       "  'cardKingdomId': '238183',\n",
       "  'cardsphereId': '73202',\n",
       "  'mcmId': '499055',\n",
       "  'mtgArenaId': '73513',\n",
       "  'mtgjsonV4Id': '108da755-66b3-554a-bbae-ce3b3db14b7e',\n",
       "  'mtgoId': '82931',\n",
       "  'multiverseId': '495100',\n",
       "  'scryfallId': '1967d4a8-6cc4-4a4d-9d24-93257de35e6d',\n",
       "  'scryfallIllustrationId': 'bd47b124-ae6d-414b-8005-ea34ae5aaea9',\n",
       "  'scryfallOracleId': '56719f6a-1a6c-4c0a-8d21-18f7d7350b68',\n",
       "  'tcgplayerProductId': '222820'},\n",
       " 'isReprint': True,\n",
       " 'language': 'English',\n",
       " 'layout': 'normal',\n",
       " 'legalities': {'alchemy': 'Legal',\n",
       "  'brawl': 'Legal',\n",
       "  'commander': 'Legal',\n",
       "  'duel': 'Legal',\n",
       "  'explorer': 'Legal',\n",
       "  'future': 'Legal',\n",
       "  'gladiator': 'Legal',\n",
       "  'historic': 'Legal',\n",
       "  'historicbrawl': 'Legal',\n",
       "  'legacy': 'Legal',\n",
       "  'modern': 'Legal',\n",
       "  'pauper': 'Legal',\n",
       "  'paupercommander': 'Legal',\n",
       "  'penny': 'Legal',\n",
       "  'pioneer': 'Legal',\n",
       "  'premodern': 'Legal',\n",
       "  'standard': 'Legal',\n",
       "  'vintage': 'Legal'},\n",
       " 'manaValue': 0.0,\n",
       " 'name': 'Swamp',\n",
       " 'number': '382',\n",
       " 'printings': ['10E',\n",
       "  '2ED',\n",
       "  '2XM',\n",
       "  '3ED',\n",
       "  '4BB',\n",
       "  '4ED',\n",
       "  '5ED',\n",
       "  '6ED',\n",
       "  '7ED',\n",
       "  '8ED',\n",
       "  '9ED',\n",
       "  'AFR',\n",
       "  'AKH',\n",
       "  'AKR',\n",
       "  'ALA',\n",
       "  'ANA',\n",
       "  'ANB',\n",
       "  'ARC',\n",
       "  'ATH',\n",
       "  'AVR',\n",
       "  'BBD',\n",
       "  'BFZ',\n",
       "  'BRB',\n",
       "  'BTD',\n",
       "  'C13',\n",
       "  'C14',\n",
       "  'C15',\n",
       "  'C16',\n",
       "  'C17',\n",
       "  'C18',\n",
       "  'C19',\n",
       "  'CED',\n",
       "  'CEI',\n",
       "  'CHK',\n",
       "  'CLB',\n",
       "  'CM2',\n",
       "  'CMA',\n",
       "  'CMD',\n",
       "  'CST',\n",
       "  'DDC',\n",
       "  'DDD',\n",
       "  'DDE',\n",
       "  'DDH',\n",
       "  'DDJ',\n",
       "  'DDK',\n",
       "  'DDM',\n",
       "  'DDN',\n",
       "  'DDP',\n",
       "  'DDQ',\n",
       "  'DDR',\n",
       "  'DKM',\n",
       "  'DOM',\n",
       "  'DPA',\n",
       "  'DTK',\n",
       "  'DVD',\n",
       "  'E01',\n",
       "  'ELD',\n",
       "  'FBB',\n",
       "  'FRF',\n",
       "  'G17',\n",
       "  'GK1',\n",
       "  'GK2',\n",
       "  'GN2',\n",
       "  'GNT',\n",
       "  'GRN',\n",
       "  'GVL',\n",
       "  'H09',\n",
       "  'HOP',\n",
       "  'HOU',\n",
       "  'ICE',\n",
       "  'IKO',\n",
       "  'INV',\n",
       "  'ISD',\n",
       "  'ITP',\n",
       "  'J14',\n",
       "  'JMP',\n",
       "  'KHM',\n",
       "  'KLD',\n",
       "  'KLR',\n",
       "  'KTK',\n",
       "  'LEA',\n",
       "  'LEB',\n",
       "  'LRW',\n",
       "  'M10',\n",
       "  'M11',\n",
       "  'M12',\n",
       "  'M13',\n",
       "  'M14',\n",
       "  'M15',\n",
       "  'M19',\n",
       "  'M20',\n",
       "  'M21',\n",
       "  'MBS',\n",
       "  'MD1',\n",
       "  'ME1',\n",
       "  'ME3',\n",
       "  'MH2',\n",
       "  'MID',\n",
       "  'MIR',\n",
       "  'MMQ',\n",
       "  'MRD',\n",
       "  'NEO',\n",
       "  'NPH',\n",
       "  'ODY',\n",
       "  'ONS',\n",
       "  'ORI',\n",
       "  'P02',\n",
       "  'PAL00',\n",
       "  'PAL01',\n",
       "  'PAL03',\n",
       "  'PAL04',\n",
       "  'PAL05',\n",
       "  'PAL06',\n",
       "  'PAL99',\n",
       "  'PALP',\n",
       "  'PANA',\n",
       "  'PARL',\n",
       "  'PC2',\n",
       "  'PCA',\n",
       "  'PD3',\n",
       "  'PELP',\n",
       "  'PF19',\n",
       "  'PF20',\n",
       "  'PGPX',\n",
       "  'PGRU',\n",
       "  'PHUK',\n",
       "  'PMPS',\n",
       "  'PMPS06',\n",
       "  'PMPS07',\n",
       "  'PMPS08',\n",
       "  'PMPS09',\n",
       "  'PMPS10',\n",
       "  'PMPS11',\n",
       "  'POR',\n",
       "  'PPP1',\n",
       "  'PRM',\n",
       "  'PRW2',\n",
       "  'PRWK',\n",
       "  'PS11',\n",
       "  'PSAL',\n",
       "  'PSS2',\n",
       "  'PSS3',\n",
       "  'PTC',\n",
       "  'PTK',\n",
       "  'RAV',\n",
       "  'RIX',\n",
       "  'RNA',\n",
       "  'ROE',\n",
       "  'RQS',\n",
       "  'RTR',\n",
       "  'S99',\n",
       "  'SHM',\n",
       "  'SLD',\n",
       "  'SNC',\n",
       "  'SOI',\n",
       "  'SOM',\n",
       "  'STX',\n",
       "  'SUM',\n",
       "  'TD0',\n",
       "  'TD2',\n",
       "  'THB',\n",
       "  'THS',\n",
       "  'TMP',\n",
       "  'TPR',\n",
       "  'TSP',\n",
       "  'UGL',\n",
       "  'UND',\n",
       "  'UNF',\n",
       "  'UNH',\n",
       "  'USG',\n",
       "  'UST',\n",
       "  'VOW',\n",
       "  'WAR',\n",
       "  'WC01',\n",
       "  'WC02',\n",
       "  'WC03',\n",
       "  'WC97',\n",
       "  'WC98',\n",
       "  'WC99',\n",
       "  'XANA',\n",
       "  'XLN',\n",
       "  'ZEN',\n",
       "  'ZNR'],\n",
       " 'purchaseUrls': {'cardKingdom': 'https://mtgjson.com/links/0e487b056dde0c36',\n",
       "  'cardKingdomFoil': 'https://mtgjson.com/links/e0ab6e99a991eb61',\n",
       "  'tcgplayer': 'https://mtgjson.com/links/30a24879cc2b08cf'},\n",
       " 'rarity': 'common',\n",
       " 'rulings': [],\n",
       " 'setCode': 'ZNR',\n",
       " 'subtypes': ['Swamp'],\n",
       " 'supertypes': ['Basic'],\n",
       " 'text': '({T}: Add {B}.)',\n",
       " 'type': 'Basic Land — Swamp',\n",
       " 'types': ['Land'],\n",
       " 'uuid': '8148c863-ee4b-5204-b115-3f172931e08c',\n",
       " 'variations': ['4b6c32d3-1277-56a3-8da0-dbf098b48c23',\n",
       "  '7c91ca01-5bcc-5639-839a-1421d18ab3ec',\n",
       "  'ea273c8a-4b17-5fe1-8594-51f8dba92e99']}"
      ]
     },
     "execution_count": 51,
     "metadata": {},
     "output_type": "execute_result"
    }
   ],
   "source": [
    "allcards['data']['ZNR']['cards'][-10]"
   ]
  }
 ],
 "metadata": {
  "kernelspec": {
   "display_name": "Python 3 (ipykernel)",
   "language": "python",
   "name": "python3"
  },
  "language_info": {
   "codemirror_mode": {
    "name": "ipython",
    "version": 3
   },
   "file_extension": ".py",
   "mimetype": "text/x-python",
   "name": "python",
   "nbconvert_exporter": "python",
   "pygments_lexer": "ipython3",
   "version": "3.9.9"
  }
 },
 "nbformat": 4,
 "nbformat_minor": 5
}
