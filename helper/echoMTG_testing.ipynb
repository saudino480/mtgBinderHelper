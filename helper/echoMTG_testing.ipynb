{
 "cells": [
  {
   "cell_type": "code",
   "execution_count": 8,
   "id": "d6e8f621-7b0c-4c93-90f5-7d39515c7b11",
   "metadata": {},
   "outputs": [],
   "source": [
    "import requests\n",
    "from requests import Session\n",
    "import secrets\n",
    "import json\n",
    "import echoMTG_api\n",
    "from pprint import pprint as pp"
   ]
  },
  {
   "cell_type": "code",
   "execution_count": 4,
   "id": "84f7009a-e85a-49b6-97a1-a5564001d5fe",
   "metadata": {},
   "outputs": [],
   "source": [
    "echo_api = echoMTG_api.echoMTGAPI(secrets.echoMTG_key)"
   ]
  },
  {
   "cell_type": "code",
   "execution_count": 6,
   "id": "e9ed8804-1f8f-4810-bc51-ce7e938ddfb9",
   "metadata": {
    "tags": []
   },
   "outputs": [],
   "source": [
    "full_list = echo_api.cardReference()"
   ]
  },
  {
   "cell_type": "code",
   "execution_count": 9,
   "id": "9220b9f1-2d9d-4c5e-8561-ec8baec2e346",
   "metadata": {},
   "outputs": [],
   "source": [
    "sett = json.load(open('settings.json'))"
   ]
  }
 ],
 "metadata": {
  "kernelspec": {
   "display_name": "Python 3 (ipykernel)",
   "language": "python",
   "name": "python3"
  },
  "language_info": {
   "codemirror_mode": {
    "name": "ipython",
    "version": 3
   },
   "file_extension": ".py",
   "mimetype": "text/x-python",
   "name": "python",
   "nbconvert_exporter": "python",
   "pygments_lexer": "ipython3",
   "version": "3.9.9"
  }
 },
 "nbformat": 4,
 "nbformat_minor": 5
}
